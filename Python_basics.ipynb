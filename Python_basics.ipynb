{
 "cells": [
  {
   "cell_type": "markdown",
   "id": "68ed33ce-9c40-46b7-a268-49d28e635ed1",
   "metadata": {},
   "source": [
    "# Python Basics"
   ]
  },
  {
   "cell_type": "markdown",
   "id": "abf778d1-c69b-4ec0-82e7-ebc498c22637",
   "metadata": {},
   "source": [
    "All the basics that I have learnt from the Udemy course, hope I *remember* it."
   ]
  },
  {
   "cell_type": "markdown",
   "id": "20c95019-1d31-45e4-9c6a-0785ea62e654",
   "metadata": {},
   "source": [
    "## 1.Upper and lower case"
   ]
  },
  {
   "cell_type": "markdown",
   "id": "941cc500-af8b-4489-b3f5-3486f2b29308",
   "metadata": {},
   "source": [
    "#### I accidentally deleted them and undo didn't work, too."
   ]
  },
  {
   "cell_type": "code",
   "execution_count": 15,
   "id": "97113a5f-75ba-4b9b-a38d-e2033f995d51",
   "metadata": {},
   "outputs": [
    {
     "name": "stdout",
     "output_type": "stream",
     "text": [
      "The given seq was 'atcgttga', now it is 'ATCGTTGA', after using .upper method.\n"
     ]
    }
   ],
   "source": [
    "\n",
    "print(f\"The given seq was '{DNA_Seq}', now it is '{DNA_Seq1}', after using .upper method.\")"
   ]
  },
  {
   "cell_type": "code",
   "execution_count": null,
   "id": "6163bda8-08d2-49cb-be5b-cc9dd1d4af8d",
   "metadata": {},
   "outputs": [],
   "source": [
    "#(.capitalize) is used to capitalize the first letter of a sentence and (.title) is to make every word capitalize."
   ]
  },
  {
   "cell_type": "code",
   "execution_count": null,
   "id": "12f75d64-5c26-4d2e-a929-c67c3da32a60",
   "metadata": {},
   "outputs": [],
   "source": [
    "#In need of creationg a mutant, you can replace the nucleotide or the amino acid with,guess what? Yes, with . replace"
   ]
  },
  {
   "cell_type": "markdown",
   "id": "05777014-9f3b-4afa-ad2f-2448d80f0035",
   "metadata": {},
   "source": [
    "## 2.Find and Count \n"
   ]
  },
  {
   "cell_type": "code",
   "execution_count": null,
   "id": "12a1ebb1-d62b-4204-9368-b515d244857b",
   "metadata": {},
   "outputs": [],
   "source": [
    "#(.find)searches the string for the FIRST occurence of the substring that you mentioned and (.count), well it counts the times of\n",
    "#occurence of the substring in the string"
   ]
  },
  {
   "cell_type": "code",
   "execution_count": 28,
   "id": "e7accb1d-448a-4181-9a55-d8c3bb9c6ab1",
   "metadata": {},
   "outputs": [
    {
     "name": "stdout",
     "output_type": "stream",
     "text": [
      "1\n"
     ]
    }
   ],
   "source": [
    "Qoute = \"AUGGGCTAG\"\n",
    "Qoute_him = Qoute.count('T')\n",
    "print(Qoute_him)"
   ]
  },
  {
   "cell_type": "markdown",
   "id": "57a41d3d-2ab6-4094-8ae1-e766e7fd50ce",
   "metadata": {},
   "source": [
    "## 3.Split and Join"
   ]
  },
  {
   "cell_type": "code",
   "execution_count": 29,
   "id": "23c4f887-320d-4c2b-bde9-fafcab758c1d",
   "metadata": {},
   "outputs": [
    {
     "name": "stdout",
     "output_type": "stream",
     "text": [
      "['Let', 'me', 'learn', 'python', 'and', 'then', 'R', 'for', 'Bioinformatics']\n"
     ]
    }
   ],
   "source": [
    "String_to_Split = \"Let me learn python and, then R for Bioinformatics\"\n",
    "Split_1 = String_to_Split.split()\n",
    "print(Split_1)"
   ]
  },
  {
   "cell_type": "markdown",
   "id": "e29bfd16-3348-4e1a-a271-595a2353559b",
   "metadata": {},
   "source": [
    "### This produces a *list* of Strings. "
   ]
  },
  {
   "cell_type": "code",
   "execution_count": 34,
   "id": "267eeb3b-84bb-4a1e-99fd-f95673943fd3",
   "metadata": {},
   "outputs": [
    {
     "name": "stdout",
     "output_type": "stream",
     "text": [
      "['Let me learn python ', ' R for Bioinformatics']\n"
     ]
    }
   ],
   "source": [
    "String_to_Split = \"Let me learn python and R for Bioinformatics\"\n",
    "#now I can use the split function to split the sentence after what I mention inside the brackets.\n",
    "Split_1 = String_to_Split.split('and')\n",
    "print(Split_1)"
   ]
  },
  {
   "cell_type": "markdown",
   "id": "cd20318b-7f38-491d-a5af-1faa8187ccbb",
   "metadata": {},
   "source": [
    "#### Time to join'em back, don't you think?"
   ]
  },
  {
   "cell_type": "code",
   "execution_count": 40,
   "id": "f6b68419-30e4-443c-932f-fc24493bf0de",
   "metadata": {},
   "outputs": [
    {
     "name": "stdout",
     "output_type": "stream",
     "text": [
      "Let me learn python and R for Bioinformatics\n"
     ]
    }
   ],
   "source": [
    "Join_Split_1 ='and' .join(Split_1)\n",
    "print(Join_Split_1)"
   ]
  },
  {
   "cell_type": "code",
   "execution_count": null,
   "id": "3caacae6-e672-4656-b487-94943c8b6161",
   "metadata": {},
   "outputs": [],
   "source": []
  }
 ],
 "metadata": {
  "kernelspec": {
   "display_name": "Python 3 (ipykernel)",
   "language": "python",
   "name": "python3"
  },
  "language_info": {
   "codemirror_mode": {
    "name": "ipython",
    "version": 3
   },
   "file_extension": ".py",
   "mimetype": "text/x-python",
   "name": "python",
   "nbconvert_exporter": "python",
   "pygments_lexer": "ipython3",
   "version": "3.12.2"
  }
 },
 "nbformat": 4,
 "nbformat_minor": 5
}
