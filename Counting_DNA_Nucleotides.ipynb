{
 "cells": [
  {
   "cell_type": "markdown",
   "id": "90cba4f2-d672-4473-a8e7-1dad55e3602d",
   "metadata": {},
   "source": [
    "### 1.Counting DNA Nucleotides"
   ]
  },
  {
   "cell_type": "code",
   "execution_count": 1,
   "id": "8326fd25-587a-4bb2-a433-2e47f21cbc3d",
   "metadata": {},
   "outputs": [
    {
     "name": "stdout",
     "output_type": "stream",
     "text": [
      "First 5 lines of the file:\n",
      "['>NC_012920.1 Homo sapiens mitochondrion, complete genome\\n', 'GATCACAGGTCTATCACCCTATTAACCACTCACGGGAGCTCTCCATGCATTTGGTATTTTCGTCTGGGGG\\n', 'GTATGCACGCGATAGCATTGCGAGACGCTGGAGCCGGAGCACCCTATGTCGCAGTATCTGTCTTTGATTC\\n', 'CTGCCTCATCCTATTATTTATCGCACCTACGTTCAATATTACAGGCGAACATACTTACTAAAGTGTGTTA\\n', 'ATTAATTAATGCTTGTAGGACATAATAATAACAATTGAATGTCTGCACAGCCACTTTCCACACAGACATC\\n']\n",
      "\n",
      "The number of nucleotide bases in this sequence is: 16569\n"
     ]
    }
   ],
   "source": [
    "Seq = \"/home/bm/Downloads/sequence.fasta\"\n",
    "\n",
    "with open(Seq, 'r') as DNA_Seq:\n",
    "    lines = DNA_Seq.readlines()\n",
    "\n",
    "# Debug: print first few lines\n",
    "print(\"First 5 lines of the file:\")\n",
    "print(lines[:5])\n",
    "\n",
    "# Process sequence\n",
    "sequence = ''.join(\n",
    "    line.strip()\n",
    "    for line in lines\n",
    "    if line.strip() != '' and not line.startswith('>')\n",
    ")\n",
    "\n",
    "print(f'\\nThe number of nucleotide bases in this sequence is: {len(sequence)}')\n"
   ]
  },
  {
   "cell_type": "code",
   "execution_count": null,
   "id": "21fadd17-40a0-44f5-8082-937ff9bc72dc",
   "metadata": {},
   "outputs": [],
   "source": []
  }
 ],
 "metadata": {
  "kernelspec": {
   "display_name": "Python 3 (ipykernel)",
   "language": "python",
   "name": "python3"
  },
  "language_info": {
   "codemirror_mode": {
    "name": "ipython",
    "version": 3
   },
   "file_extension": ".py",
   "mimetype": "text/x-python",
   "name": "python",
   "nbconvert_exporter": "python",
   "pygments_lexer": "ipython3",
   "version": "3.12.2"
  }
 },
 "nbformat": 4,
 "nbformat_minor": 5
}
