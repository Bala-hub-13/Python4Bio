{
 "cells": [
  {
   "cell_type": "markdown",
   "id": "51d64d14-5e8e-41f6-99e4-765c8a6809a8",
   "metadata": {},
   "source": [
    "## Calculation of GC content "
   ]
  },
  {
   "cell_type": "code",
   "execution_count": 33,
   "id": "4e156533-7c08-4a27-a488-879faad28790",
   "metadata": {},
   "outputs": [
    {
     "name": "stdout",
     "output_type": "stream",
     "text": [
      "The number of nucleotide bases in this sequence is: 16569.\n"
     ]
    }
   ],
   "source": [
    "Seq = \"/home/bm/Downloads/sequence.fasta\"\n",
    "\n",
    "with open(Seq, 'r') as DNA_Seq:\n",
    "    lines = DNA_Seq.readlines()\n",
    "#This opens the file in read mode ('r') and gives it the temporary name DNA_Seq.\n",
    "#The with statement automatically closes the file afterward.\n",
    "#This reads every line of the file and stores it into a list called lines.\n",
    "\n",
    "# Debug: print first few lines\n",
    "#print(\"First 5 lines of the file:\")\n",
    "#print(lines[:5])\n",
    "\n",
    "# Process sequence\n",
    "sequence = ''.join(\n",
    "    line.strip()\n",
    "    for line in lines\n",
    "    if line.strip() != '' and not line.startswith('>')\n",
    ")\n",
    "\n",
    "print(f'The number of nucleotide bases in this sequence is: {len(sequence)}.')\n"
   ]
  },
  {
   "cell_type": "markdown",
   "id": "46d1913a-ffeb-4f49-8c74-75226b6d17bd",
   "metadata": {},
   "source": [
    "#### line.strip()\n",
    "Removes all leading and trailing whitespace (like \\n, spaces, etc.)\n",
    "\n",
    "#### if line.strip() != ''\n",
    "This skips any empty lines.\n",
    "\n",
    "#### not line.startswith('>')\n",
    "Skips the FASTA header line, which starts with >."
   ]
  },
  {
   "cell_type": "markdown",
   "id": "4e587df8",
   "metadata": {},
   "source": [
    "### Now calculate the GC Content, the code is pretty self explaintory."
   ]
  },
  {
   "cell_type": "code",
   "execution_count": 28,
   "id": "1cd5f036",
   "metadata": {},
   "outputs": [
    {
     "name": "stdout",
     "output_type": "stream",
     "text": [
      "The GC content of the sequence is 44.359949.\n"
     ]
    }
   ],
   "source": [
    "# Count G and C nucleotides\n",
    "g_count = sequence.count('G')\n",
    "c_count = sequence.count('C')\n",
    "\n",
    "# GC Content calculation\n",
    "gc_content = round(100 * (g_count + c_count) / len(sequence), 6)\n",
    "print(f'The GC content of the sequence is {gc_content}.')"
   ]
  }
 ],
 "metadata": {
  "kernelspec": {
   "display_name": "Python 3 (ipykernel)",
   "language": "python",
   "name": "python3"
  },
  "language_info": {
   "codemirror_mode": {
    "name": "ipython",
    "version": 3
   },
   "file_extension": ".py",
   "mimetype": "text/x-python",
   "name": "python",
   "nbconvert_exporter": "python",
   "pygments_lexer": "ipython3",
   "version": "3.12.2"
  }
 },
 "nbformat": 4,
 "nbformat_minor": 5
}
