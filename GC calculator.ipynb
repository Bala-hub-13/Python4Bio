{
 "cells": [
  {
   "cell_type": "markdown",
   "id": "51d64d14-5e8e-41f6-99e4-765c8a6809a8",
   "metadata": {},
   "source": [
    "## Calculation of GC content "
   ]
  },
  {
   "cell_type": "code",
   "execution_count": 4,
   "id": "4e156533-7c08-4a27-a488-879faad28790",
   "metadata": {},
   "outputs": [
    {
     "name": "stdout",
     "output_type": "stream",
     "text": [
      "The number of nucleotide bases in this sequence are 16808.\n"
     ]
    }
   ],
   "source": [
    "Seq = \"/home/bm/Downloads/sequence.fasta\"\n",
    "#I opened the filepath and printed the contents, then removed all things not bases using .replace, and stored it in a new variable.\n",
    "with open(Seq, 'r') as DNA_Seq:\n",
    "    DNA_Contents = DNA_Seq.read().replace('>NC_012920.1 Homo sapiens mitochondrion, complete genome', '')\n",
    "    \n",
    "print(f'The number of nucleotide bases in this sequence are {len(DNA_Contents)}.')\n"
   ]
  },
  {
   "cell_type": "markdown",
   "id": "4e587df8",
   "metadata": {},
   "source": [
    "### Now calculate the GC Content, the code is pretty self explaintory."
   ]
  },
  {
   "cell_type": "code",
   "execution_count": 5,
   "id": "1cd5f036",
   "metadata": {},
   "outputs": [
    {
     "name": "stdout",
     "output_type": "stream",
     "text": [
      "43.73\n"
     ]
    }
   ],
   "source": [
    "GC_Content = DNA_Contents.count('G') + DNA_Contents.count('C')\n",
    "GC_Content = round(GC_Content / len(DNA_Contents) * 100, 2)\n",
    "\n",
    "print(GC_Content)"
   ]
  },
  {
   "cell_type": "code",
   "execution_count": 6,
   "id": "be97eccb-65d7-4025-8638-da48abaa552e",
   "metadata": {},
   "outputs": [
    {
     "name": "stdout",
     "output_type": "stream",
     "text": [
      "43.73\n"
     ]
    }
   ],
   "source": [
    "GC_Content = round((((DNA_Contents.count('G')) + (DNA_Contents.count('C'))) / len(DNA_Contents)) * 100, 2)\n",
    "print(GC_Content)"
   ]
  },
  {
   "cell_type": "markdown",
   "id": "f611f37e",
   "metadata": {},
   "source": [
    "#### The first method is bit less clumsy and more readable; but the second one has less code; hence it all comes down to personal preference."
   ]
  }
 ],
 "metadata": {
  "kernelspec": {
   "display_name": "dev",
   "language": "python",
   "name": "python3"
  },
  "language_info": {
   "codemirror_mode": {
    "name": "ipython",
    "version": 3
   },
   "file_extension": ".py",
   "mimetype": "text/x-python",
   "name": "python",
   "nbconvert_exporter": "python",
   "pygments_lexer": "ipython3",
   "version": "3.12.2"
  }
 },
 "nbformat": 4,
 "nbformat_minor": 5
}
